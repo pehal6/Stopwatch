{
  "nbformat": 4,
  "nbformat_minor": 0,
  "metadata": {
    "colab": {
      "provenance": []
    },
    "kernelspec": {
      "name": "python3",
      "display_name": "Python 3"
    },
    "language_info": {
      "name": "python"
    }
  },
  "cells": [
    {
      "cell_type": "code",
      "source": [
        "import time\n",
        "\n",
        "def stopwatch():\n",
        "    print(\"⏱️ Simple Python Stopwatch ⏱️\")\n",
        "    input(\"Press ENTER to start\")\n",
        "    start_time = time.time()\n",
        "    print(\"Timer started...\")\n",
        "\n",
        "    input(\"Press ENTER to stop\")\n",
        "    end_time = time.time()\n",
        "    print(\"Timer stopped!\")\n",
        "\n",
        "    elapsed_time = end_time - start_time\n",
        "    print(f\"🕒 Elapsed Time: {round(elapsed_time, 2)} seconds\")\n",
        "\n",
        "if __name__ == \"__main__\":\n",
        "    stopwatch()\n"
      ],
      "metadata": {
        "colab": {
          "base_uri": "https://localhost:8080/"
        },
        "id": "YRGNQtOhorJK",
        "outputId": "2843ed3b-4627-4b02-e626-0a734f3a1c1d"
      },
      "execution_count": 39,
      "outputs": [
        {
          "output_type": "stream",
          "name": "stdout",
          "text": [
            "⏱️ Simple Python Stopwatch ⏱️\n",
            "Press ENTER to start3.45\n",
            "Timer started...\n",
            "Press ENTER to stop3.46\n",
            "Timer stopped!\n",
            "🕒 Elapsed Time: 5.39 seconds\n"
          ]
        }
      ]
    }
  ]
}